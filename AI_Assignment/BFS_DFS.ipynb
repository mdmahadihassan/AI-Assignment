{
 "cells": [
  {
   "cell_type": "markdown",
   "metadata": {},
   "source": [
    "# BFS"
   ]
  },
  {
   "cell_type": "code",
   "execution_count": null,
   "metadata": {},
   "outputs": [],
   "source": [
    "ftree = {'S':['A','B'],\n",
    "        'A':['S'],\n",
    "        'B':['S','C','D'],\n",
    "        'C':['B','E','F'],\n",
    "        'D':['B','G'],\n",
    "        'E':['C'],\n",
    "        'F':['C']\n",
    "       }\n",
    "def BFS(array):\n",
    "    global tree\n",
    "    index = 0\n",
    "    nodes_layers = [['S']]\n",
    "    solution = ['G']\n",
    "    current_terget = 'G'\n",
    "\n",
    "    #Get visited nodes sequence\n",
    "    while 'G' not in array:\n",
    "        temp = []\n",
    "        for item in tree[array[index]]:\n",
    "            if item in array:\n",
    "                continue\n",
    "                temp.append(item)\n",
    "                array.append(item)\n",
    "                if item == 'G':\n",
    "                    break\n",
    "                nodes_layers.append(temp)\n",
    "                index += 1\n",
    "\n",
    "    #Get optimal path ,starting from goal\n",
    "    for i in  range(index-1,0, -1):\n",
    "        for j in range(len(nodes_layers[i])):\n",
    "            if current_target in tree[nodes_layers[i][j]]:\n",
    "                current_target = nodes_layers[i][j]\n",
    "                solution.append(nodes_layers[i][j])\n",
    "                break\n",
    "        solution.append('S')\n",
    "        solution.reverse()\n",
    "        return solution, array\n",
    "\n",
    "if __name__ == \"__main__\":\n",
    "    solution, nodes_visited = BFS(['S'])\n",
    "    print('Optimal Solution :' + str(solution))\n",
    "print('Visited nodes :' + str(nodes_visited))"
   ]
  },
  {
   "cell_type": "markdown",
   "metadata": {},
   "source": [
    "# DFS"
   ]
  },
  {
   "cell_type": "code",
   "execution_count": 4,
   "metadata": {},
   "outputs": [
    {
     "name": "stdout",
     "output_type": "stream",
     "text": [
      "\n",
      "\n",
      "\n",
      "The DFS traversal of the Graph is:\n",
      "\n",
      "\n",
      "1 3 4 5 2 0 \n",
      "\n",
      "\n"
     ]
    }
   ],
   "source": [
    "from collections import defaultdict\n",
    "\n",
    "\n",
    "class graph:\n",
    "    def __init__(self):\n",
    "        self.graph = defaultdict(list)\n",
    "\n",
    "    def add_edge(self, u, v):\n",
    "        self.graph[u].append(v)\n",
    "        self.graph[v].append(u)\n",
    "\n",
    "    def DFS(self, s):\n",
    "        stack = []\n",
    "        visited = [False for i in range(len(self.graph))]\n",
    "        visited[s] = True\n",
    "        stack.append(s);\n",
    "        while stack:\n",
    "            source = stack.pop()\n",
    "            print(source, end=' ')\n",
    "            for j in self.graph[source]:\n",
    "                if visited[j] == False:\n",
    "                    stack.append(j);\n",
    "                    visited[j] = True\n",
    "\n",
    "\n",
    "g = graph()\n",
    "g.add_edge(0, 1)\n",
    "g.add_edge(0, 2)\n",
    "g.add_edge(1, 3)\n",
    "g.add_edge(2, 3)\n",
    "g.add_edge(3, 4)\n",
    "g.add_edge(4, 5)\n",
    "print(\"\\n\\n\\nThe DFS traversal of the Graph is:\\n\\n\")\n",
    "g.DFS(1)\n",
    "print(\"\\n\\n\")"
   ]
  },
  {
   "cell_type": "code",
   "execution_count": null,
   "metadata": {},
   "outputs": [],
   "source": []
  }
 ],
 "metadata": {
  "kernelspec": {
   "display_name": "Python 3",
   "language": "python",
   "name": "python3"
  },
  "language_info": {
   "codemirror_mode": {
    "name": "ipython",
    "version": 3
   },
   "file_extension": ".py",
   "mimetype": "text/x-python",
   "name": "python",
   "nbconvert_exporter": "python",
   "pygments_lexer": "ipython3",
   "version": "3.6.4"
  }
 },
 "nbformat": 4,
 "nbformat_minor": 2
}
